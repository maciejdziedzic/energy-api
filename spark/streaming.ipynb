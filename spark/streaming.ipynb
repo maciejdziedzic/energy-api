{
 "cells": [
  {
   "cell_type": "code",
   "execution_count": null,
   "id": "c5f265cd",
   "metadata": {},
   "outputs": [],
   "source": []
  },
  {
   "cell_type": "markdown",
   "id": "c4419168-c0e6-4a65-b56e-8454c42060ac",
   "metadata": {
    "tags": []
   },
   "source": [
    "### Spark Setup"
   ]
  },
  {
   "cell_type": "code",
   "execution_count": 1,
   "id": "32bd7cdd-8504-4a54-a461-244bf7878d2a",
   "metadata": {
    "tags": []
   },
   "outputs": [],
   "source": [
    "from pyspark.sql.types import StructType, StringType, DoubleType, TimestampType\n",
    "import os\n",
    "from pyspark.sql.functions import from_json, expr\n",
    "os.environ['PYSPARK_SUBMIT_ARGS'] = '--packages org.apache.spark:spark-sql-kafka-0-10_2.12:3.3.1,org.apache.spark:spark-avro_2.12:3.3.1 pyspark-shell'"
   ]
  },
  {
   "cell_type": "code",
   "execution_count": 2,
   "id": "3aab2a7e-a685-4925-9c9a-b5adf201af77",
   "metadata": {
    "tags": []
   },
   "outputs": [
    {
     "name": "stdout",
     "output_type": "stream",
     "text": [
      ":: loading settings :: url = jar:file:/usr/local/lib/python3.10/dist-packages/pyspark/jars/ivy-2.5.0.jar!/org/apache/ivy/core/settings/ivysettings.xml\n"
     ]
    },
    {
     "name": "stderr",
     "output_type": "stream",
     "text": [
      "Ivy Default Cache set to: /root/.ivy2/cache\n",
      "The jars for the packages stored in: /root/.ivy2/jars\n",
      "org.apache.spark#spark-sql-kafka-0-10_2.12 added as a dependency\n",
      "org.apache.spark#spark-avro_2.12 added as a dependency\n",
      ":: resolving dependencies :: org.apache.spark#spark-submit-parent-c2d657ff-4e7e-4bf6-87bc-9907646eb019;1.0\n",
      "\tconfs: [default]\n",
      "\tfound org.apache.spark#spark-sql-kafka-0-10_2.12;3.3.1 in central\n",
      "\tfound org.apache.spark#spark-token-provider-kafka-0-10_2.12;3.3.1 in central\n",
      "\tfound org.apache.kafka#kafka-clients;2.8.1 in central\n",
      "\tfound org.lz4#lz4-java;1.8.0 in central\n",
      "\tfound org.xerial.snappy#snappy-java;1.1.8.4 in central\n",
      "\tfound org.slf4j#slf4j-api;1.7.32 in central\n",
      "\tfound org.apache.hadoop#hadoop-client-runtime;3.3.2 in central\n",
      "\tfound org.spark-project.spark#unused;1.0.0 in central\n",
      "\tfound org.apache.hadoop#hadoop-client-api;3.3.2 in central\n",
      "\tfound commons-logging#commons-logging;1.1.3 in central\n",
      "\tfound com.google.code.findbugs#jsr305;3.0.0 in central\n",
      "\tfound org.apache.commons#commons-pool2;2.11.1 in central\n",
      "\tfound org.apache.spark#spark-avro_2.12;3.3.1 in central\n",
      "\tfound org.tukaani#xz;1.8 in central\n",
      ":: resolution report :: resolve 1072ms :: artifacts dl 39ms\n",
      "\t:: modules in use:\n",
      "\tcom.google.code.findbugs#jsr305;3.0.0 from central in [default]\n",
      "\tcommons-logging#commons-logging;1.1.3 from central in [default]\n",
      "\torg.apache.commons#commons-pool2;2.11.1 from central in [default]\n",
      "\torg.apache.hadoop#hadoop-client-api;3.3.2 from central in [default]\n",
      "\torg.apache.hadoop#hadoop-client-runtime;3.3.2 from central in [default]\n",
      "\torg.apache.kafka#kafka-clients;2.8.1 from central in [default]\n",
      "\torg.apache.spark#spark-avro_2.12;3.3.1 from central in [default]\n",
      "\torg.apache.spark#spark-sql-kafka-0-10_2.12;3.3.1 from central in [default]\n",
      "\torg.apache.spark#spark-token-provider-kafka-0-10_2.12;3.3.1 from central in [default]\n",
      "\torg.lz4#lz4-java;1.8.0 from central in [default]\n",
      "\torg.slf4j#slf4j-api;1.7.32 from central in [default]\n",
      "\torg.spark-project.spark#unused;1.0.0 from central in [default]\n",
      "\torg.tukaani#xz;1.8 from central in [default]\n",
      "\torg.xerial.snappy#snappy-java;1.1.8.4 from central in [default]\n",
      "\t---------------------------------------------------------------------\n",
      "\t|                  |            modules            ||   artifacts   |\n",
      "\t|       conf       | number| search|dwnlded|evicted|| number|dwnlded|\n",
      "\t---------------------------------------------------------------------\n",
      "\t|      default     |   14  |   0   |   0   |   0   ||   14  |   0   |\n",
      "\t---------------------------------------------------------------------\n",
      ":: retrieving :: org.apache.spark#spark-submit-parent-c2d657ff-4e7e-4bf6-87bc-9907646eb019\n",
      "\tconfs: [default]\n",
      "\t0 artifacts copied, 14 already retrieved (0kB/22ms)\n"
     ]
    },
    {
     "name": "stdout",
     "output_type": "stream",
     "text": [
      "24/05/08 18:32:58 WARN NativeCodeLoader: Unable to load native-hadoop library for your platform... using builtin-java classes where applicable\n"
     ]
    },
    {
     "name": "stderr",
     "output_type": "stream",
     "text": [
      "Setting default log level to \"WARN\".\n",
      "To adjust logging level use sc.setLogLevel(newLevel). For SparkR, use setLogLevel(newLevel).\n"
     ]
    }
   ],
   "source": [
    "from pyspark.sql import SparkSession\n",
    "import pyspark.sql.types as T\n",
    "import pyspark.sql.functions as F\n",
    "\n",
    "spark = SparkSession \\\n",
    "    .builder \\\n",
    "    .appName(\"Spark-Jupyter\") \\\n",
    "    .getOrCreate()"
   ]
  },
  {
   "cell_type": "markdown",
   "id": "0b7f2f20-8eae-4b95-b4eb-1731ef74502d",
   "metadata": {},
   "source": [
    "#### Electricity data"
   ]
  },
  {
   "cell_type": "code",
   "execution_count": 3,
   "id": "15a4fac6-15bc-441a-8edb-80e3b91c6d19",
   "metadata": {
    "tags": []
   },
   "outputs": [],
   "source": [
    "schema_energy = StructType() \\\n",
    "    .add(\"Minutes1UTC\", TimestampType()) \\\n",
    "    .add(\"SolarPower\", DoubleType()) \\\n",
    "    .add(\"OnshoreWindPower\", DoubleType())"
   ]
  },
  {
   "cell_type": "code",
   "execution_count": 4,
   "id": "c9d5f485-1999-47a8-834e-91a8972f17a3",
   "metadata": {
    "tags": []
   },
   "outputs": [],
   "source": [
    "df_kafka_raw_energy = spark \\\n",
    "    .readStream \\\n",
    "    .format(\"kafka\") \\\n",
    "    .option(\"kafka.bootstrap.servers\", \"localhost:9092,broker:29092\") \\\n",
    "    .option(\"subscribe\", \"energy_data\") \\\n",
    "    .option(\"startingOffsets\", \"earliest\") \\\n",
    "    .option(\"checkpointLocation\", \"checkpoint\") \\\n",
    "    .load()"
   ]
  },
  {
   "cell_type": "code",
   "execution_count": 5,
   "id": "38596833-e062-4cf9-8b1c-548afdec3190",
   "metadata": {
    "tags": []
   },
   "outputs": [],
   "source": [
    "df_parsed_energy = df_kafka_raw_energy \\\n",
    "    .selectExpr(\"CAST(key AS STRING)\", \"CAST(value AS STRING)\") \\\n",
    "    .select(from_json(\"value\", schema_energy).alias(\"data\")) \\\n",
    "    .select(\"data.*\")"
   ]
  },
  {
   "cell_type": "code",
   "execution_count": 6,
   "id": "7acdb6ae-424a-486e-8579-7ee1c651bfd5",
   "metadata": {
    "tags": []
   },
   "outputs": [
    {
     "name": "stdout",
     "output_type": "stream",
     "text": [
      "24/05/08 18:33:08 WARN ResolveWriteToStream: spark.sql.adaptive.enabled is not supported in streaming DataFrames/Datasets and will be disabled.\n"
     ]
    },
    {
     "name": "stderr",
     "output_type": "stream",
     "text": [
      "                                                                                \r"
     ]
    }
   ],
   "source": [
    "save_to_csv_energy = df_parsed_energy.writeStream \\\n",
    "    .format(\"csv\") \\\n",
    "    .option(\"path\", \"tmp_energy\") \\\n",
    "    .option(\"checkpointLocation\", \"checkpoint_energy\") \\\n",
    "    .start()"
   ]
  },
  {
   "cell_type": "markdown",
   "id": "7dc5b162-21be-4244-9469-a134c85a6fef",
   "metadata": {},
   "source": [
    "#### Price data"
   ]
  },
  {
   "cell_type": "code",
   "execution_count": null,
   "id": "e949a1ff-8182-4e2d-b2c8-aa39d99956a3",
   "metadata": {
    "tags": []
   },
   "outputs": [],
   "source": [
    "schema_prices = StructType() \\\n",
    "    .add(\"HourUTC\", TimestampType()) \\\n",
    "    .add(\"PriceArea\", StringType()) \\\n",
    "    .add(\"SpotPriceEUR\", DoubleType())"
   ]
  },
  {
   "cell_type": "code",
   "execution_count": null,
   "id": "060d200f-4bc0-47d0-8bb1-8ed877db61fd",
   "metadata": {
    "tags": []
   },
   "outputs": [],
   "source": [
    "df_kafka_raw_prices = spark \\\n",
    "    .readStream \\\n",
    "    .format(\"kafka\") \\\n",
    "    .option(\"kafka.bootstrap.servers\", \"localhost:9092,broker:29092\") \\\n",
    "    .option(\"subscribe\", \"prices_data\") \\\n",
    "    .option(\"startingOffsets\", \"earliest\") \\\n",
    "    .option(\"checkpointLocation\", \"checkpoint\") \\\n",
    "    .load()"
   ]
  },
  {
   "cell_type": "code",
   "execution_count": null,
   "id": "88351a41-e2b5-4035-bcec-7e90f37c015d",
   "metadata": {
    "tags": []
   },
   "outputs": [],
   "source": [
    "df_parsed_prices = df_kafka_raw_prices \\\n",
    "    .selectExpr(\"CAST(key AS STRING)\", \"CAST(value AS STRING)\") \\\n",
    "    .select(from_json(\"value\", schema_prices).alias(\"data\")) \\B\n",
    "    .select(\"data.*\")"
   ]
  },
  {
   "cell_type": "markdown",
   "id": "4068cc11-29c7-4cd2-9303-cf041fa74b64",
   "metadata": {},
   "source": [
    "#### Analytics"
   ]
  },
  {
   "cell_type": "code",
   "execution_count": null,
   "id": "60faf48e-560a-4a6a-97fc-f50fceebe952",
   "metadata": {
    "tags": []
   },
   "outputs": [],
   "source": [
    "# Calculate average solar power per hour\n",
    "from pyspark.sql.functions import window, hour\n",
    "average_solar_power_per_hour = df_parsed_energy \\\n",
    "    .groupBy(window(\"Minutes1UTC\", \"1 hour\")) \\\n",
    "    .agg({\"SolarPower\": \"avg\"}) \\\n",
    "    .withColumnRenamed(\"avg(SolarPower)\", \"AverageSolarPower\") \\\n",
    "    .withColumn(\"Hour\", hour(\"window.start\")) \\\n",
    "    .select(\"Hour\", \"AverageSolarPower\")\n",
    "\n",
    "query = average_solar_power_per_hour \\\n",
    "    .writeStream \\\n",
    "    .outputMode(\"update\") \\\n",
    "    .format(\"console\") \\\n",
    "    .option(\"truncate\", \"false\") \\\n",
    "    .start()"
   ]
  },
  {
   "cell_type": "code",
   "execution_count": null,
   "id": "912cf5a9-c59c-4ae3-9843-98511af78250",
   "metadata": {
    "tags": []
   },
   "outputs": [],
   "source": [
    "save_to_csv_prices = df_parsed_prices.writeStream \\\n",
    "    .format(\"csv\") \\\n",
    "    .option(\"path\", \"tmp_prices\") \\\n",
    "    .option(\"checkpointLocation\", \"checkpoint_prices\") \\\n",
    "    .start()"
   ]
  },
  {
   "cell_type": "code",
   "execution_count": null,
   "id": "0b745eed-7d74-421e-8e4b-c8343fda4de3",
   "metadata": {
    "tags": []
   },
   "outputs": [],
   "source": [
    "df_kafka_encoded = df_kafka_raw.selectExpr(\"CAST(key AS STRING)\",\"CAST(value AS STRING)\")"
   ]
  },
  {
   "cell_type": "code",
   "execution_count": null,
   "id": "6839addc-c7c0-4117-8c9c-d2cd59cbf136",
   "metadata": {
    "tags": []
   },
   "outputs": [],
   "source": [
    "df_kafka_encoded.printSchema()"
   ]
  }
 ],
 "metadata": {
  "kernelspec": {
   "display_name": "Python 3 (ipykernel)",
   "language": "python",
   "name": "python3"
  },
  "language_info": {
   "codemirror_mode": {
    "name": "ipython",
    "version": 3
   },
   "file_extension": ".py",
   "mimetype": "text/x-python",
   "name": "python",
   "nbconvert_exporter": "python",
   "pygments_lexer": "ipython3",
   "version": "3.10.12"
  }
 },
 "nbformat": 4,
 "nbformat_minor": 5
}
