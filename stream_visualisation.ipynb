{
 "cells": [
  {
   "cell_type": "code",
   "execution_count": 1,
   "id": "a22dacc7-d057-4df8-8611-03954d280788",
   "metadata": {
    "tags": []
   },
   "outputs": [],
   "source": [
    "from pyspark.sql.types import StructType, StringType, DoubleType, TimestampType\n",
    "import os\n",
    "from pyspark.sql.functions import from_json, expr\n",
    "os.environ['PYSPARK_SUBMIT_ARGS'] = '--packages org.apache.spark:spark-sql-kafka-0-10_2.12:3.3.1,org.apache.spark:spark-avro_2.12:3.3.1 pyspark-shell'"
   ]
  },
  {
   "cell_type": "code",
   "execution_count": 2,
   "id": "e447f02a-f5e6-4f9c-8b06-4f1184d3546c",
   "metadata": {
    "tags": []
   },
   "outputs": [
    {
     "name": "stdout",
     "output_type": "stream",
     "text": [
      ":: loading settings :: url = jar:file:/usr/local/lib/python3.10/dist-packages/pyspark/jars/ivy-2.5.0.jar!/org/apache/ivy/core/settings/ivysettings.xml\n"
     ]
    },
    {
     "name": "stderr",
     "output_type": "stream",
     "text": [
      "Ivy Default Cache set to: /root/.ivy2/cache\n",
      "The jars for the packages stored in: /root/.ivy2/jars\n",
      "org.apache.spark#spark-sql-kafka-0-10_2.12 added as a dependency\n",
      "org.apache.spark#spark-avro_2.12 added as a dependency\n",
      ":: resolving dependencies :: org.apache.spark#spark-submit-parent-a3758fea-1a3e-4dc3-9edc-31ec0b466d69;1.0\n",
      "\tconfs: [default]\n",
      "\tfound org.apache.spark#spark-sql-kafka-0-10_2.12;3.3.1 in central\n",
      "\tfound org.apache.spark#spark-token-provider-kafka-0-10_2.12;3.3.1 in central\n",
      "\tfound org.apache.kafka#kafka-clients;2.8.1 in central\n",
      "\tfound org.lz4#lz4-java;1.8.0 in central\n",
      "\tfound org.xerial.snappy#snappy-java;1.1.8.4 in central\n",
      "\tfound org.slf4j#slf4j-api;1.7.32 in central\n",
      "\tfound org.apache.hadoop#hadoop-client-runtime;3.3.2 in central\n",
      "\tfound org.spark-project.spark#unused;1.0.0 in central\n",
      "\tfound org.apache.hadoop#hadoop-client-api;3.3.2 in central\n",
      "\tfound commons-logging#commons-logging;1.1.3 in central\n",
      "\tfound com.google.code.findbugs#jsr305;3.0.0 in central\n",
      "\tfound org.apache.commons#commons-pool2;2.11.1 in central\n",
      "\tfound org.apache.spark#spark-avro_2.12;3.3.1 in central\n",
      "\tfound org.tukaani#xz;1.8 in central\n",
      ":: resolution report :: resolve 536ms :: artifacts dl 24ms\n",
      "\t:: modules in use:\n",
      "\tcom.google.code.findbugs#jsr305;3.0.0 from central in [default]\n",
      "\tcommons-logging#commons-logging;1.1.3 from central in [default]\n",
      "\torg.apache.commons#commons-pool2;2.11.1 from central in [default]\n",
      "\torg.apache.hadoop#hadoop-client-api;3.3.2 from central in [default]\n",
      "\torg.apache.hadoop#hadoop-client-runtime;3.3.2 from central in [default]\n",
      "\torg.apache.kafka#kafka-clients;2.8.1 from central in [default]\n",
      "\torg.apache.spark#spark-avro_2.12;3.3.1 from central in [default]\n",
      "\torg.apache.spark#spark-sql-kafka-0-10_2.12;3.3.1 from central in [default]\n",
      "\torg.apache.spark#spark-token-provider-kafka-0-10_2.12;3.3.1 from central in [default]\n",
      "\torg.lz4#lz4-java;1.8.0 from central in [default]\n",
      "\torg.slf4j#slf4j-api;1.7.32 from central in [default]\n",
      "\torg.spark-project.spark#unused;1.0.0 from central in [default]\n",
      "\torg.tukaani#xz;1.8 from central in [default]\n",
      "\torg.xerial.snappy#snappy-java;1.1.8.4 from central in [default]\n",
      "\t---------------------------------------------------------------------\n",
      "\t|                  |            modules            ||   artifacts   |\n",
      "\t|       conf       | number| search|dwnlded|evicted|| number|dwnlded|\n",
      "\t---------------------------------------------------------------------\n",
      "\t|      default     |   14  |   0   |   0   |   0   ||   14  |   0   |\n",
      "\t---------------------------------------------------------------------\n",
      ":: retrieving :: org.apache.spark#spark-submit-parent-a3758fea-1a3e-4dc3-9edc-31ec0b466d69\n",
      "\tconfs: [default]\n",
      "\t0 artifacts copied, 14 already retrieved (0kB/9ms)\n"
     ]
    },
    {
     "name": "stdout",
     "output_type": "stream",
     "text": [
      "24/05/21 06:42:51 WARN NativeCodeLoader: Unable to load native-hadoop library for your platform... using builtin-java classes where applicable\n"
     ]
    },
    {
     "name": "stderr",
     "output_type": "stream",
     "text": [
      "Setting default log level to \"WARN\".\n",
      "To adjust logging level use sc.setLogLevel(newLevel). For SparkR, use setLogLevel(newLevel).\n"
     ]
    }
   ],
   "source": [
    "from pyspark.sql import SparkSession\n",
    "import pyspark.sql.types as T\n",
    "import pyspark.sql.functions as F\n",
    "\n",
    "spark = SparkSession \\\n",
    "    .builder \\\n",
    "    .appName(\"Spark-Jupyter\") \\\n",
    "    .getOrCreate()"
   ]
  },
  {
   "cell_type": "code",
   "execution_count": 3,
   "id": "cd913c48-d43c-449e-966e-55af6d90aa1a",
   "metadata": {
    "tags": []
   },
   "outputs": [],
   "source": [
    "schema_energy = StructType().add(\"SolarPower\", DoubleType())"
   ]
  },
  {
   "cell_type": "code",
   "execution_count": 4,
   "id": "7fb32ac2-cb87-4e40-b6cd-097688c27296",
   "metadata": {
    "tags": []
   },
   "outputs": [],
   "source": [
    "df_kafka_raw_energy = spark \\\n",
    "    .readStream \\\n",
    "    .format(\"kafka\") \\\n",
    "    .option(\"kafka.bootstrap.servers\", \"localhost:9092,broker:29092\") \\\n",
    "    .option(\"subscribe\", \"energy_data\") \\\n",
    "    .option(\"startingOffsets\", \"earliest\") \\\n",
    "    .option(\"checkpointLocation\", \"checkpoint\") \\\n",
    "    .load()\n",
    "\n",
    "# Parse JSON and select only SolarPower\n",
    "df_parsed_energy = df_kafka_raw_energy \\\n",
    "    .selectExpr(\"CAST(value AS STRING)\") \\\n",
    "    .select(from_json(\"value\", schema_energy).alias(\"data\")) \\\n",
    "    .select(\"data.SolarPower\")\n",
    "\n",
    "# Print to console (only SolarPower)\n",
    "# df_parsed_energy.writeStream.format(\"console\").start().awaitTermination()"
   ]
  },
  {
   "cell_type": "code",
   "execution_count": null,
   "id": "b6eb3218-a007-4e0d-af15-121bbb3ab823",
   "metadata": {
    "tags": []
   },
   "outputs": [
    {
     "name": "stdout",
     "output_type": "stream",
     "text": [
      "24/05/21 06:42:56 WARN ResolveWriteToStream: Temporary checkpoint location created which is deleted normally when the query didn't fail: /tmp/temporary-478056a4-3eb9-4468-9bf2-96ab46fc7c27. If it's required to delete it under any circumstances, please set spark.sql.streaming.forceDeleteTempCheckpointLocation to true. Important to know deleting temp checkpoint folder is best effort.\n",
      "24/05/21 06:42:56 WARN ResolveWriteToStream: spark.sql.adaptive.enabled is not supported in streaming DataFrames/Datasets and will be disabled.\n"
     ]
    },
    {
     "name": "stderr",
     "output_type": "stream",
     "text": [
      "[Stage 0:>                                                          (0 + 1) / 1]\r"
     ]
    },
    {
     "name": "stdout",
     "output_type": "stream",
     "text": [
      "24/05/21 06:42:58 WARN NetworkClient: [Consumer clientId=consumer-spark-kafka-source-475479f2-e2d8-4efd-b106-017e7e3f9c97--1688593392-executor-2, groupId=spark-kafka-source-475479f2-e2d8-4efd-b106-017e7e3f9c97--1688593392-executor] Connection to node -1 (localhost/127.0.0.1:9092) could not be established. Broker may not be available.\n",
      "24/05/21 06:42:58 WARN NetworkClient: [Consumer clientId=consumer-spark-kafka-source-475479f2-e2d8-4efd-b106-017e7e3f9c97--1688593392-executor-2, groupId=spark-kafka-source-475479f2-e2d8-4efd-b106-017e7e3f9c97--1688593392-executor] Bootstrap broker localhost:9092 (id: -1 rack: null) disconnected\n"
     ]
    },
    {
     "name": "stderr",
     "output_type": "stream",
     "text": [
      "                                                                                \r"
     ]
    },
    {
     "name": "stdout",
     "output_type": "stream",
     "text": [
      "SolarPower: 917.210022\n",
      "24/05/21 06:42:59 WARN ProcessingTimeExecutor: Current batch is falling behind. The trigger interval is 2000 milliseconds, but spent 2798 milliseconds\n",
      "SolarPower: 1533.390015\n",
      "SolarPower: 1533.390015\n"
     ]
    },
    {
     "name": "stderr",
     "output_type": "stream",
     "text": [
      "                                                                                \r"
     ]
    },
    {
     "name": "stdout",
     "output_type": "stream",
     "text": [
      "SolarPower: 1533.390015\n",
      "SolarPower: 1533.390015\n",
      "SolarPower: 1561.25\n",
      "SolarPower: 1561.25\n",
      "SolarPower: 1561.25\n",
      "SolarPower: 1561.25\n",
      "SolarPower: 1561.25\n",
      "SolarPower: 1561.25\n",
      "SolarPower: 1571.140015\n"
     ]
    },
    {
     "name": "stderr",
     "output_type": "stream",
     "text": [
      "                                                                                \r"
     ]
    },
    {
     "name": "stdout",
     "output_type": "stream",
     "text": [
      "SolarPower: 1571.140015\n"
     ]
    },
    {
     "name": "stderr",
     "output_type": "stream",
     "text": [
      "                                                                                \r"
     ]
    },
    {
     "name": "stdout",
     "output_type": "stream",
     "text": [
      "SolarPower: 1571.140015\n"
     ]
    },
    {
     "name": "stderr",
     "output_type": "stream",
     "text": [
      "                                                                                \r"
     ]
    },
    {
     "name": "stdout",
     "output_type": "stream",
     "text": [
      "SolarPower: 1571.140015\n",
      "SolarPower: 1571.140015\n",
      "SolarPower: 1571.140015\n",
      "SolarPower: 1570.75\n",
      "SolarPower: 1570.75\n",
      "SolarPower: 1570.75\n",
      "SolarPower: 1570.75\n",
      "SolarPower: 1570.75\n",
      "SolarPower: 1570.75\n",
      "SolarPower: 1577.810059\n",
      "SolarPower: 1577.810059\n",
      "SolarPower: 1577.810059\n",
      "SolarPower: 1577.810059\n",
      "SolarPower: 1577.810059\n",
      "SolarPower: 1577.810059\n",
      "SolarPower: 1587.589966\n",
      "SolarPower: 1587.589966\n",
      "SolarPower: 1587.589966\n",
      "SolarPower: 1587.589966\n"
     ]
    },
    {
     "name": "stderr",
     "output_type": "stream",
     "text": [
      "                                                                                \r"
     ]
    },
    {
     "name": "stdout",
     "output_type": "stream",
     "text": [
      "SolarPower: 1587.589966\n",
      "SolarPower: 1587.589966\n",
      "SolarPower: 1606.75\n",
      "SolarPower: 1606.75\n",
      "SolarPower: 1606.75\n",
      "SolarPower: 1606.75\n",
      "SolarPower: 1606.75\n",
      "SolarPower: 1606.75\n",
      "SolarPower: 1610.569946\n",
      "SolarPower: 1610.569946\n",
      "SolarPower: 1610.569946\n",
      "SolarPower: 1610.569946\n",
      "SolarPower: 1610.569946\n",
      "SolarPower: 1610.569946\n",
      "SolarPower: 1619.719971\n",
      "SolarPower: 1619.719971\n",
      "SolarPower: 1619.719971\n"
     ]
    },
    {
     "name": "stderr",
     "output_type": "stream",
     "text": [
      "                                                                                \r"
     ]
    },
    {
     "name": "stdout",
     "output_type": "stream",
     "text": [
      "SolarPower: 1619.719971\n"
     ]
    },
    {
     "name": "stderr",
     "output_type": "stream",
     "text": [
      "                                                                                \r"
     ]
    },
    {
     "name": "stdout",
     "output_type": "stream",
     "text": [
      "SolarPower: 1619.719971\n",
      "SolarPower: 1619.719971\n",
      "SolarPower: 1634.589966\n",
      "SolarPower: 1634.589966\n",
      "SolarPower: 1634.589966\n",
      "SolarPower: 1634.589966\n",
      "SolarPower: 1634.589966\n",
      "SolarPower: 1634.589966\n",
      "SolarPower: 1640.859985\n",
      "SolarPower: 1640.859985\n",
      "SolarPower: 1640.859985\n",
      "SolarPower: 1640.859985\n",
      "SolarPower: 1640.859985\n",
      "SolarPower: 1640.859985\n",
      "SolarPower: 1645.030029\n",
      "SolarPower: 1645.030029\n",
      "SolarPower: 1645.030029\n",
      "SolarPower: 1645.030029\n"
     ]
    },
    {
     "name": "stderr",
     "output_type": "stream",
     "text": [
      "                                                                                \r"
     ]
    },
    {
     "name": "stdout",
     "output_type": "stream",
     "text": [
      "SolarPower: 1645.030029\n",
      "SolarPower: 1645.030029\n",
      "SolarPower: 1661.810059\n",
      "SolarPower: 1661.810059\n",
      "SolarPower: 1661.810059\n",
      "SolarPower: 1661.810059\n",
      "SolarPower: 1661.810059\n",
      "SolarPower: 1661.810059\n",
      "SolarPower: 1670.680054\n",
      "SolarPower: 1670.680054\n",
      "SolarPower: 1670.680054\n",
      "SolarPower: 1670.680054\n",
      "SolarPower: 1670.680054\n",
      "SolarPower: 1670.680054\n",
      "SolarPower: 1671.199951\n",
      "SolarPower: 1671.199951\n",
      "SolarPower: 1671.199951\n",
      "SolarPower: 1671.199951\n"
     ]
    },
    {
     "name": "stderr",
     "output_type": "stream",
     "text": [
      "                                                                                \r"
     ]
    },
    {
     "name": "stdout",
     "output_type": "stream",
     "text": [
      "SolarPower: 1671.199951\n"
     ]
    },
    {
     "name": "stderr",
     "output_type": "stream",
     "text": [
      "                                                                                \r"
     ]
    },
    {
     "name": "stdout",
     "output_type": "stream",
     "text": [
      "SolarPower: 1671.199951\n"
     ]
    },
    {
     "name": "stderr",
     "output_type": "stream",
     "text": [
      "                                                                                \r"
     ]
    },
    {
     "name": "stdout",
     "output_type": "stream",
     "text": [
      "SolarPower: 1681.140015\n",
      "SolarPower: 1681.140015\n",
      "SolarPower: 1681.140015\n",
      "SolarPower: 1681.140015\n",
      "SolarPower: 1681.140015\n",
      "SolarPower: 1681.140015\n",
      "SolarPower: 1691.530029\n",
      "SolarPower: 1691.530029\n",
      "SolarPower: 1691.530029\n",
      "SolarPower: 1691.530029\n",
      "SolarPower: 1691.530029\n",
      "SolarPower: 1691.530029\n",
      "SolarPower: 1704.72998\n",
      "SolarPower: 1704.72998\n",
      "SolarPower: 1704.72998\n",
      "SolarPower: 1704.72998\n",
      "SolarPower: 1704.72998\n",
      "SolarPower: 1704.72998\n",
      "SolarPower: 1714.400024\n"
     ]
    },
    {
     "name": "stderr",
     "output_type": "stream",
     "text": [
      "                                                                                \r"
     ]
    },
    {
     "name": "stdout",
     "output_type": "stream",
     "text": [
      "SolarPower: 1714.400024\n",
      "SolarPower: 1714.400024\n",
      "SolarPower: 1714.400024\n",
      "SolarPower: 1714.400024\n",
      "SolarPower: 1714.400024\n",
      "SolarPower: 1723.72998\n",
      "SolarPower: 1723.72998\n",
      "SolarPower: 1723.72998\n",
      "SolarPower: 1723.72998\n",
      "SolarPower: 1723.72998\n",
      "SolarPower: 1723.72998\n",
      "SolarPower: 1734.52002\n",
      "SolarPower: 1734.52002\n",
      "SolarPower: 1734.52002\n",
      "SolarPower: 1734.52002\n",
      "SolarPower: 1734.52002\n",
      "SolarPower: 1734.52002\n",
      "SolarPower: 1755.290039\n",
      "SolarPower: 1755.290039\n"
     ]
    },
    {
     "name": "stderr",
     "output_type": "stream",
     "text": [
      "                                                                                \r"
     ]
    },
    {
     "name": "stdout",
     "output_type": "stream",
     "text": [
      "SolarPower: 1755.290039\n"
     ]
    },
    {
     "name": "stderr",
     "output_type": "stream",
     "text": [
      "                                                                                \r"
     ]
    },
    {
     "name": "stdout",
     "output_type": "stream",
     "text": [
      "SolarPower: 1755.290039\n",
      "SolarPower: 1755.290039\n",
      "SolarPower: 1755.290039\n",
      "SolarPower: 1769.930054\n",
      "SolarPower: 1769.930054\n",
      "SolarPower: 1769.930054\n",
      "SolarPower: 1769.930054\n",
      "SolarPower: 1769.930054\n",
      "SolarPower: 1769.930054\n",
      "SolarPower: 1775.689941\n",
      "SolarPower: 1775.689941\n",
      "SolarPower: 1775.689941\n",
      "SolarPower: 1775.689941\n",
      "SolarPower: 1775.689941\n",
      "SolarPower: 1775.689941\n",
      "SolarPower: 1789.790039\n",
      "SolarPower: 1789.790039\n",
      "SolarPower: 1789.790039\n",
      "SolarPower: 1789.790039\n",
      "SolarPower: 1789.790039\n"
     ]
    },
    {
     "name": "stderr",
     "output_type": "stream",
     "text": [
      "                                                                                \r"
     ]
    },
    {
     "name": "stdout",
     "output_type": "stream",
     "text": [
      "SolarPower: 1789.790039\n"
     ]
    },
    {
     "name": "stderr",
     "output_type": "stream",
     "text": [
      "                                                                                \r"
     ]
    },
    {
     "name": "stdout",
     "output_type": "stream",
     "text": [
      "SolarPower: 1800.459961\n",
      "SolarPower: 1800.459961\n",
      "SolarPower: 1800.459961\n",
      "SolarPower: 1800.459961\n",
      "SolarPower: 1800.459961\n",
      "SolarPower: 1800.459961\n",
      "SolarPower: 1809.650024\n",
      "SolarPower: 1809.650024\n",
      "SolarPower: 1809.650024\n",
      "SolarPower: 1809.650024\n",
      "SolarPower: 1809.650024\n",
      "SolarPower: 1809.650024\n",
      "SolarPower: 1819.050049\n",
      "SolarPower: 1819.050049\n",
      "SolarPower: 1819.050049\n",
      "SolarPower: 1819.050049\n",
      "SolarPower: 1819.050049\n",
      "SolarPower: 1819.050049\n",
      "SolarPower: 1823.839966\n"
     ]
    },
    {
     "name": "stderr",
     "output_type": "stream",
     "text": [
      "                                                                                \r"
     ]
    },
    {
     "name": "stdout",
     "output_type": "stream",
     "text": [
      "SolarPower: 1823.839966\n"
     ]
    },
    {
     "name": "stderr",
     "output_type": "stream",
     "text": [
      "                                                                                \r"
     ]
    },
    {
     "name": "stdout",
     "output_type": "stream",
     "text": [
      "SolarPower: 1823.839966\n",
      "SolarPower: 1823.839966\n",
      "SolarPower: 1823.839966\n",
      "SolarPower: 1823.839966\n",
      "SolarPower: 1835.439941\n",
      "SolarPower: 1835.439941\n",
      "SolarPower: 1835.439941\n",
      "SolarPower: 1835.439941\n",
      "SolarPower: 1835.439941\n",
      "SolarPower: 1835.439941\n",
      "SolarPower: 1840.790039\n",
      "SolarPower: 1840.790039\n",
      "SolarPower: 1840.790039\n",
      "SolarPower: 1840.790039\n",
      "SolarPower: 1840.790039\n",
      "SolarPower: 1840.790039\n",
      "SolarPower: 1854.719971\n",
      "SolarPower: 1854.719971\n",
      "SolarPower: 1854.719971\n"
     ]
    },
    {
     "name": "stderr",
     "output_type": "stream",
     "text": [
      "                                                                                \r"
     ]
    },
    {
     "name": "stdout",
     "output_type": "stream",
     "text": [
      "SolarPower: 1854.719971\n"
     ]
    },
    {
     "name": "stderr",
     "output_type": "stream",
     "text": [
      "                                                                                \r"
     ]
    },
    {
     "name": "stdout",
     "output_type": "stream",
     "text": [
      "SolarPower: 1854.719971\n",
      "SolarPower: 1854.719971\n",
      "SolarPower: 1857.560059\n",
      "SolarPower: 1857.560059\n",
      "SolarPower: 1857.560059\n",
      "SolarPower: 1857.560059\n",
      "SolarPower: 1857.560059\n",
      "SolarPower: 1857.560059\n",
      "SolarPower: 1864.319946\n",
      "SolarPower: 1864.319946\n",
      "SolarPower: 1864.319946\n",
      "SolarPower: 1864.319946\n",
      "SolarPower: 1864.319946\n",
      "SolarPower: 1864.319946\n",
      "SolarPower: 1876.51001\n",
      "SolarPower: 1876.51001\n",
      "SolarPower: 1876.51001\n",
      "SolarPower: 1876.51001\n"
     ]
    },
    {
     "name": "stderr",
     "output_type": "stream",
     "text": [
      "                                                                                \r"
     ]
    },
    {
     "name": "stdout",
     "output_type": "stream",
     "text": [
      "SolarPower: 1876.51001\n",
      "SolarPower: 1876.51001\n",
      "SolarPower: 1893.0\n",
      "SolarPower: 1893.0\n",
      "SolarPower: 1893.0\n",
      "SolarPower: 1893.0\n",
      "SolarPower: 1893.0\n",
      "SolarPower: 1893.0\n",
      "SolarPower: 1885.459961\n",
      "SolarPower: 1885.459961\n",
      "SolarPower: 1885.459961\n",
      "SolarPower: 1885.459961\n",
      "SolarPower: 1885.459961\n",
      "SolarPower: 1885.459961\n",
      "SolarPower: 1889.219971\n"
     ]
    }
   ],
   "source": [
    "# Function to Update Metric (simplified)\n",
    "from prometheus_client import start_http_server, Gauge\n",
    "solar_power_gauge = Gauge('solar_power_watts', 'Current solar power generation')  # Create gauge here\n",
    "def process_batch(batch_df, batch_id):    \n",
    "    # solar_power_gauge.set(5)  # Set the gauge to the constant value 5\n",
    "    # print(f\"Updated solar_power_watts: {solar_power_gauge._value.get()}\")\n",
    "    \n",
    "    latest_row = batch_df.first()\n",
    "    solar_power_value = latest_row[\"SolarPower\"] \n",
    "    solar_power_gauge.set(solar_power_value)\n",
    "    print(\"SolarPower:\", solar_power_value)\n",
    "\n",
    "# Start Metrics Server (Important!)\n",
    "start_http_server(8000)\n",
    "\n",
    "# Spark Structured Streaming (Trigger Every Minute)\n",
    "query = (\n",
    "    df_parsed_energy.writeStream\n",
    "    .foreachBatch(process_batch)\n",
    "    .trigger(processingTime='2 seconds')  \n",
    "    .start()\n",
    ")\n",
    "\n",
    "query.awaitTermination()"
   ]
  },
  {
   "cell_type": "code",
   "execution_count": null,
   "id": "22f9ce88-6000-4a46-b3a8-0372aedf3ab6",
   "metadata": {},
   "outputs": [],
   "source": []
  }
 ],
 "metadata": {
  "kernelspec": {
   "display_name": "Python 3 (ipykernel)",
   "language": "python",
   "name": "python3"
  },
  "language_info": {
   "codemirror_mode": {
    "name": "ipython",
    "version": 3
   },
   "file_extension": ".py",
   "mimetype": "text/x-python",
   "name": "python",
   "nbconvert_exporter": "python",
   "pygments_lexer": "ipython3",
   "version": "3.10.12"
  }
 },
 "nbformat": 4,
 "nbformat_minor": 5
}
